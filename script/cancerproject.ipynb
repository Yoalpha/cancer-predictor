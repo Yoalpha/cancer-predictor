{
 "cells": [
  {
   "cell_type": "code",
   "execution_count": 101,
   "id": "73942eb7-7025-4cb0-a22a-d5fdfeb17c3e",
   "metadata": {},
   "outputs": [
    {
     "name": "stderr",
     "output_type": "stream",
     "text": [
      "/opt/anaconda3/lib/python3.12/site-packages/sklearn/base.py:493: UserWarning: X does not have valid feature names, but DecisionTreeClassifier was fitted with feature names\n",
      "  warnings.warn(\n"
     ]
    },
    {
     "data": {
      "text/plain": [
       "array(['High'], dtype=object)"
      ]
     },
     "execution_count": 101,
     "metadata": {},
     "output_type": "execute_result"
    }
   ],
   "source": [
    "import pandas as pd \n",
    "from sklearn.tree import DecisionTreeClassifier\n",
    "from sklearn import tree\n",
    "\n",
    "cancer_data = pd.read_csv('cancer_patient.csv')\n",
    "\n",
    "X = cancer_data.drop(columns = ['Level'])\n",
    "y = cancer_data['Level']\n",
    "\n",
    "model = DecisionTreeClassifier()\n",
    "model.fit (X_train, y_train)\n",
    "\n",
    "tree.export_graphviz(model, out_file = 'cancer-patient.dot', \n",
    "                     feature_names = ['atient Id', 'Age' , 'Gender', 'Air ollution', 'Alcohol use', 'Dust Allergy', 'Occuational Hazards', 'Genetic Risk', 'chronic Lung Disease', 'Balanced Diet', 'Obesity', 'Smoking', 'Passive Smoker', 'Chest Pain', 'Coughing of Blood', 'Fatigue, Weight Loss', 'Shortness of Breath', 'Wheezing', 'Swallowing Difficulty', 'Clubbing of Finger Nails', 'Frequent Cold', 'Dry Cough', 'Snoring', 'Level' ],\n",
    "                     class_names = sorted(y.unique()),\n",
    "                     label = 'all',\n",
    "                     rounded = True,\n",
    "                     filled = True)\n",
    "predictions = model.predict([ [1000, 37, 1, 5, 1, 10, 4, 9, 2, 2, 6, 2, 4, 3, 2, 8, 70, 9, 2, 1, 4, 6, 3, 4] ])\n",
    "predictions\n",
    "                                     \n",
    "\n"
   ]
  },
  {
   "cell_type": "code",
   "execution_count": null,
   "id": "e42d5a82-4f93-422f-8fda-6e15fe49d7ea",
   "metadata": {},
   "outputs": [],
   "source": []
  },
  {
   "cell_type": "code",
   "execution_count": null,
   "id": "b794c940-4987-4dc2-a2d8-5787ab38d856",
   "metadata": {},
   "outputs": [],
   "source": []
  }
 ],
 "metadata": {
  "kernelspec": {
   "display_name": "Python 3 (ipykernel)",
   "language": "python",
   "name": "python3"
  },
  "language_info": {
   "codemirror_mode": {
    "name": "ipython",
    "version": 3
   },
   "file_extension": ".py",
   "mimetype": "text/x-python",
   "name": "python",
   "nbconvert_exporter": "python",
   "pygments_lexer": "ipython3",
   "version": "3.12.7"
  }
 },
 "nbformat": 4,
 "nbformat_minor": 5
}
